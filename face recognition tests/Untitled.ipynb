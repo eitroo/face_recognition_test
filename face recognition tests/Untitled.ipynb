{
 "cells": [
  {
   "cell_type": "code",
   "execution_count": 2,
   "metadata": {},
   "outputs": [],
   "source": [
    "import face_recognition"
   ]
  },
  {
   "cell_type": "code",
   "execution_count": 12,
   "metadata": {},
   "outputs": [],
   "source": [
    "kanye_face = face_recognition.load_image_file(\"Pictures of people/feed/kanye.jpg\")\n",
    "kanye_check = face_recognition.load_image_file(\"Pictures of people/Unknown/african_american_person.jpg\")"
   ]
  },
  {
   "cell_type": "code",
   "execution_count": 31,
   "metadata": {},
   "outputs": [],
   "source": [
    "kanye_encoding = face_recognition.face_encodings(kanye_face)[0]\n",
    "unkanye_encoding = face_recognition.face_encodings(kanye_check)[0]\n",
    "face_location = face_recognition.face_locations(kanye_face)"
   ]
  },
  {
   "cell_type": "code",
   "execution_count": 17,
   "metadata": {},
   "outputs": [],
   "source": [
    "results = face_recognition.compare_faces([kanye_encoding], unkanye_encoding)"
   ]
  },
  {
   "cell_type": "code",
   "execution_count": 33,
   "metadata": {},
   "outputs": [
    {
     "data": {
      "text/plain": [
       "[True]"
      ]
     },
     "execution_count": 33,
     "metadata": {},
     "output_type": "execute_result"
    }
   ],
   "source": [
    "results"
   ]
  },
  {
   "cell_type": "code",
   "execution_count": 22,
   "metadata": {},
   "outputs": [],
   "source": [
    "face_landmarks_list = face_recognition.face_landmarks(kanye_face)\n"
   ]
  },
  {
   "cell_type": "code",
   "execution_count": 34,
   "metadata": {
    "scrolled": true
   },
   "outputs": [
    {
     "data": {
      "text/plain": [
       "[{'chin': [(438, 298),\n",
       "   (450, 319),\n",
       "   (464, 341),\n",
       "   (479, 359),\n",
       "   (497, 376),\n",
       "   (516, 388),\n",
       "   (539, 395),\n",
       "   (562, 399),\n",
       "   (586, 392),\n",
       "   (609, 376),\n",
       "   (629, 354),\n",
       "   (647, 333),\n",
       "   (662, 307),\n",
       "   (668, 277),\n",
       "   (663, 243),\n",
       "   (651, 208),\n",
       "   (637, 174)],\n",
       "  'left_eyebrow': [(424, 261), (421, 244), (427, 230), (440, 220), (455, 214)],\n",
       "  'right_eyebrow': [(485, 189),\n",
       "   (500, 172),\n",
       "   (519, 158),\n",
       "   (541, 152),\n",
       "   (566, 157)],\n",
       "  'nose_bridge': [(484, 227), (490, 241), (496, 256), (503, 272)],\n",
       "  'nose_tip': [(503, 299), (513, 297), (524, 294), (534, 283), (542, 273)],\n",
       "  'left_eye': [(448, 271),\n",
       "   (451, 256),\n",
       "   (462, 247),\n",
       "   (478, 249),\n",
       "   (469, 260),\n",
       "   (458, 268)],\n",
       "  'right_eye': [(521, 214),\n",
       "   (526, 198),\n",
       "   (539, 189),\n",
       "   (553, 190),\n",
       "   (547, 202),\n",
       "   (534, 210)],\n",
       "  'top_lip': [(517, 348),\n",
       "   (518, 328),\n",
       "   (525, 315),\n",
       "   (535, 312),\n",
       "   (542, 303),\n",
       "   (560, 299),\n",
       "   (582, 301),\n",
       "   (576, 303),\n",
       "   (549, 314),\n",
       "   (540, 321),\n",
       "   (531, 327),\n",
       "   (523, 343)],\n",
       "  'bottom_lip': [(582, 301),\n",
       "   (573, 313),\n",
       "   (563, 324),\n",
       "   (553, 331),\n",
       "   (543, 337),\n",
       "   (531, 345),\n",
       "   (517, 348),\n",
       "   (523, 343),\n",
       "   (535, 324),\n",
       "   (544, 318),\n",
       "   (553, 311),\n",
       "   (576, 303)]}]"
      ]
     },
     "execution_count": 34,
     "metadata": {},
     "output_type": "execute_result"
    }
   ],
   "source": [
    "face_landmarks_list[0]['chin']\n",
    "face_landmarks_list"
   ]
  },
  {
   "cell_type": "code",
   "execution_count": null,
   "metadata": {},
   "outputs": [],
   "source": []
  }
 ],
 "metadata": {
  "kernelspec": {
   "display_name": "Python 3",
   "language": "python",
   "name": "python3"
  },
  "language_info": {
   "codemirror_mode": {
    "name": "ipython",
    "version": 3
   },
   "file_extension": ".py",
   "mimetype": "text/x-python",
   "name": "python",
   "nbconvert_exporter": "python",
   "pygments_lexer": "ipython3",
   "version": "3.6.5"
  }
 },
 "nbformat": 4,
 "nbformat_minor": 2
}
