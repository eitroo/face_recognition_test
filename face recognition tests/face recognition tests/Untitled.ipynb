{
 "cells": [
  {
   "cell_type": "code",
   "execution_count": 1,
   "metadata": {},
   "outputs": [],
   "source": [
    "import face_recognition"
   ]
  },
  {
   "cell_type": "code",
   "execution_count": 6,
   "metadata": {},
   "outputs": [],
   "source": [
    "kanye_face = face_recognition.load_image_file(\"Pictures of people/feed/kanye.jpg\")\n",
    "kanye_check = face_recognition.load_image_file(\"Pictures of people/Unknown/expressive_RM.jpg\")"
   ]
  },
  {
   "cell_type": "code",
   "execution_count": 7,
   "metadata": {},
   "outputs": [],
   "source": [
    "kanye_encoding = face_recognition.face_encodings(kanye_face)[0]\n",
    "unkanye_encoding = face_recognition.face_encodings(kanye_check)[0]\n",
    "face_location = face_recognition.face_locations(kanye_face)"
   ]
  },
  {
   "cell_type": "code",
   "execution_count": 8,
   "metadata": {},
   "outputs": [],
   "source": [
    "results = face_recognition.compare_faces([kanye_encoding], unkanye_encoding)"
   ]
  },
  {
   "cell_type": "code",
   "execution_count": 10,
   "metadata": {},
   "outputs": [
    {
     "data": {
      "text/plain": [
       "[False]"
      ]
     },
     "execution_count": 10,
     "metadata": {},
     "output_type": "execute_result"
    }
   ],
   "source": [
    "results"
   ]
  },
  {
   "cell_type": "code",
   "execution_count": 22,
   "metadata": {},
   "outputs": [],
   "source": [
    "face_landmarks_list = face_recognition.face_landmarks(kanye_face)\n"
   ]
  },
  {
   "cell_type": "code",
   "execution_count": 34,
   "metadata": {
    "scrolled": true
   },
   "outputs": [
    {
     "data": {
      "text/plain": [
       "[{'chin': [(438, 298),\n",
       "   (450, 319),\n",
       "   (464, 341),\n",
       "   (479, 359),\n",
       "   (497, 376),\n",
       "   (516, 388),\n",
       "   (539, 395),\n",
       "   (562, 399),\n",
       "   (586, 392),\n",
       "   (609, 376),\n",
       "   (629, 354),\n",
       "   (647, 333),\n",
       "   (662, 307),\n",
       "   (668, 277),\n",
       "   (663, 243),\n",
       "   (651, 208),\n",
       "   (637, 174)],\n",
       "  'left_eyebrow': [(424, 261), (421, 244), (427, 230), (440, 220), (455, 214)],\n",
       "  'right_eyebrow': [(485, 189),\n",
       "   (500, 172),\n",
       "   (519, 158),\n",
       "   (541, 152),\n",
       "   (566, 157)],\n",
       "  'nose_bridge': [(484, 227), (490, 241), (496, 256), (503, 272)],\n",
       "  'nose_tip': [(503, 299), (513, 297), (524, 294), (534, 283), (542, 273)],\n",
       "  'left_eye': [(448, 271),\n",
       "   (451, 256),\n",
       "   (462, 247),\n",
       "   (478, 249),\n",
       "   (469, 260),\n",
       "   (458, 268)],\n",
       "  'right_eye': [(521, 214),\n",
       "   (526, 198),\n",
       "   (539, 189),\n",
       "   (553, 190),\n",
       "   (547, 202),\n",
       "   (534, 210)],\n",
       "  'top_lip': [(517, 348),\n",
       "   (518, 328),\n",
       "   (525, 315),\n",
       "   (535, 312),\n",
       "   (542, 303),\n",
       "   (560, 299),\n",
       "   (582, 301),\n",
       "   (576, 303),\n",
       "   (549, 314),\n",
       "   (540, 321),\n",
       "   (531, 327),\n",
       "   (523, 343)],\n",
       "  'bottom_lip': [(582, 301),\n",
       "   (573, 313),\n",
       "   (563, 324),\n",
       "   (553, 331),\n",
       "   (543, 337),\n",
       "   (531, 345),\n",
       "   (517, 348),\n",
       "   (523, 343),\n",
       "   (535, 324),\n",
       "   (544, 318),\n",
       "   (553, 311),\n",
       "   (576, 303)]}]"
      ]
     },
     "execution_count": 34,
     "metadata": {},
     "output_type": "execute_result"
    }
   ],
   "source": [
    "face_landmarks_list[0]['chin']\n",
    "face_landmarks_list"
   ]
  },
  {
   "cell_type": "code",
   "execution_count": 5,
   "metadata": {},
   "outputs": [
    {
     "data": {
      "text/plain": [
       "array([-0.10743542,  0.13312632,  0.11767399, -0.03896162,  0.06101949,\n",
       "       -0.0722101 ,  0.00444305, -0.06425219,  0.10877901, -0.02460832,\n",
       "        0.2586298 , -0.05261707, -0.20715562, -0.19613627,  0.0439564 ,\n",
       "        0.11897743, -0.17118247, -0.18287806, -0.08682096, -0.11548342,\n",
       "        0.03806161,  0.09400161,  0.04063201,  0.02724503, -0.13096991,\n",
       "       -0.3524878 , -0.05466079, -0.20493308,  0.0825949 , -0.02577333,\n",
       "       -0.02865631,  0.01533846, -0.2207398 , -0.01917526, -0.03011191,\n",
       "        0.06037274,  0.04719164, -0.09005733,  0.12595561, -0.00403616,\n",
       "       -0.07030687, -0.10020874, -0.01066713,  0.26648766,  0.13734525,\n",
       "        0.00972575,  0.03061564,  0.05398031,  0.06122071, -0.26267844,\n",
       "        0.13490516,  0.10561002,  0.15624189,  0.05746444,  0.10707074,\n",
       "       -0.18426192,  0.00936053,  0.06377514, -0.21162558,  0.04657914,\n",
       "       -0.01304218, -0.0401647 , -0.09848575, -0.09473824,  0.29498595,\n",
       "        0.12791851, -0.1136597 , -0.10105862,  0.14771682, -0.09663653,\n",
       "       -0.04192021,  0.00522317, -0.13848829, -0.06811449, -0.32199773,\n",
       "        0.12326953,  0.28489599,  0.10641889, -0.23769648,  0.06726141,\n",
       "       -0.12703599,  0.06708147, -0.00102381, -0.02330585, -0.13608596,\n",
       "        0.08150389, -0.19415984, -0.01460771,  0.10033028, -0.03597343,\n",
       "       -0.07778969,  0.17974938, -0.10994547,  0.00247521,  0.04903669,\n",
       "       -0.05293198, -0.06996957, -0.03856624, -0.0599643 ,  0.00344773,\n",
       "        0.12473746, -0.08694875, -0.09688786,  0.10951371, -0.15839306,\n",
       "        0.06500709, -0.01025059, -0.0223963 ,  0.01402898,  0.00254256,\n",
       "       -0.13413672, -0.09543368,  0.13438202, -0.21206297,  0.19107981,\n",
       "        0.13844684,  0.00472126,  0.19978699,  0.049215  ,  0.10244427,\n",
       "       -0.07690292,  0.00347936, -0.16569419, -0.09995817,  0.12820806,\n",
       "        0.01185516, -0.00258245,  0.08442572])"
      ]
     },
     "execution_count": 5,
     "metadata": {},
     "output_type": "execute_result"
    }
   ],
   "source": [
    "kanye_encoding"
   ]
  },
  {
   "cell_type": "code",
   "execution_count": null,
   "metadata": {},
   "outputs": [],
   "source": []
  }
 ],
 "metadata": {
  "kernelspec": {
   "display_name": "Python 3",
   "language": "python",
   "name": "python3"
  },
  "language_info": {
   "codemirror_mode": {
    "name": "ipython",
    "version": 3
   },
   "file_extension": ".py",
   "mimetype": "text/x-python",
   "name": "python",
   "nbconvert_exporter": "python",
   "pygments_lexer": "ipython3",
   "version": "3.6.5"
  }
 },
 "nbformat": 4,
 "nbformat_minor": 2
}
